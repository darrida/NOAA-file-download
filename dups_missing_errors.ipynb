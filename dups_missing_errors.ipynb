{
 "cells": [
  {
   "cell_type": "code",
   "execution_count": 1,
   "id": "dce8b88f-b0d6-46a4-8f27-51feac25eba5",
   "metadata": {},
   "outputs": [],
   "source": [
    "from pathlib import Path\n",
    "from pprint import pprint\n",
    "import pandas as pd\n",
    "from tqdm import tqdm\n",
    "import matplotlib"
   ]
  },
  {
   "cell_type": "code",
   "execution_count": 2,
   "id": "3f30cbaf-226c-4176-afd1-53a3a61310d6",
   "metadata": {},
   "outputs": [],
   "source": [
    "file_dir = Path('local_data').resolve() / 'global-summary-of-the-day-archive'"
   ]
  },
  {
   "cell_type": "code",
   "execution_count": 9,
   "id": "dbbac726-9953-4e2a-8e53-b0d3aa78ce88",
   "metadata": {},
   "outputs": [],
   "source": [
    "# df = pd.read_csv(file_dir / '2021' / '2021_full.csv', dtype=str)\n",
    "df = pd.read_csv(file_dir / '2021' / '2021_full.csv', low_memory=False) #, dtype=str)"
   ]
  },
  {
   "cell_type": "code",
   "execution_count": 63,
   "id": "56cbf41a-4835-411f-a665-71cdb3e22f62",
   "metadata": {},
   "outputs": [
    {
     "data": {
      "text/plain": [
       "4026550"
      ]
     },
     "execution_count": 63,
     "metadata": {},
     "output_type": "execute_result"
    }
   ],
   "source": [
    "len(df)"
   ]
  },
  {
   "cell_type": "code",
   "execution_count": 64,
   "id": "94ecd780-7b70-4cfb-b841-89ff7b3a529f",
   "metadata": {
    "collapsed": true,
    "jupyter": {
     "outputs_hidden": true
    },
    "tags": []
   },
   "outputs": [
    {
     "data": {
      "text/html": [
       "<div>\n",
       "<style scoped>\n",
       "    .dataframe tbody tr th:only-of-type {\n",
       "        vertical-align: middle;\n",
       "    }\n",
       "\n",
       "    .dataframe tbody tr th {\n",
       "        vertical-align: top;\n",
       "    }\n",
       "\n",
       "    .dataframe thead th {\n",
       "        text-align: right;\n",
       "    }\n",
       "</style>\n",
       "<table border=\"1\" class=\"dataframe\">\n",
       "  <thead>\n",
       "    <tr style=\"text-align: right;\">\n",
       "      <th></th>\n",
       "      <th>STATION</th>\n",
       "      <th>DATE</th>\n",
       "      <th>LATITUDE</th>\n",
       "      <th>LONGITUDE</th>\n",
       "      <th>ELEVATION</th>\n",
       "      <th>NAME</th>\n",
       "      <th>TEMP</th>\n",
       "      <th>TEMP_ATTRIBUTES</th>\n",
       "      <th>DEWP</th>\n",
       "      <th>DEWP_ATTRIBUTES</th>\n",
       "      <th>...</th>\n",
       "      <th>GUST</th>\n",
       "      <th>MAX</th>\n",
       "      <th>MAX_ATTRIBUTES</th>\n",
       "      <th>MIN</th>\n",
       "      <th>MIN_ATTRIBUTES</th>\n",
       "      <th>PRCP</th>\n",
       "      <th>PRCP_ATTRIBUTES</th>\n",
       "      <th>SNDP</th>\n",
       "      <th>FRSHTT</th>\n",
       "      <th>SOURCE_FILE</th>\n",
       "    </tr>\n",
       "  </thead>\n",
       "  <tbody>\n",
       "    <tr>\n",
       "      <th>0</th>\n",
       "      <td>01001499999</td>\n",
       "      <td>2021-01-01</td>\n",
       "      <td>59.791925</td>\n",
       "      <td>5.34085</td>\n",
       "      <td>48.76</td>\n",
       "      <td>SORSTOKKEN, NO</td>\n",
       "      <td>34.7</td>\n",
       "      <td>6</td>\n",
       "      <td>30.2</td>\n",
       "      <td>6</td>\n",
       "      <td>...</td>\n",
       "      <td>999.9</td>\n",
       "      <td>35.6</td>\n",
       "      <td>*</td>\n",
       "      <td>33.8</td>\n",
       "      <td>*</td>\n",
       "      <td>0.00</td>\n",
       "      <td>I</td>\n",
       "      <td>999.9</td>\n",
       "      <td>000000</td>\n",
       "      <td>01001499999.csv</td>\n",
       "    </tr>\n",
       "    <tr>\n",
       "      <th>1</th>\n",
       "      <td>01001499999</td>\n",
       "      <td>2021-01-03</td>\n",
       "      <td>59.791925</td>\n",
       "      <td>5.34085</td>\n",
       "      <td>48.76</td>\n",
       "      <td>SORSTOKKEN, NO</td>\n",
       "      <td>35.1</td>\n",
       "      <td>8</td>\n",
       "      <td>22.8</td>\n",
       "      <td>8</td>\n",
       "      <td>...</td>\n",
       "      <td>999.9</td>\n",
       "      <td>37.4</td>\n",
       "      <td>*</td>\n",
       "      <td>30.2</td>\n",
       "      <td>*</td>\n",
       "      <td>0.00</td>\n",
       "      <td>I</td>\n",
       "      <td>999.9</td>\n",
       "      <td>000000</td>\n",
       "      <td>01001499999.csv</td>\n",
       "    </tr>\n",
       "    <tr>\n",
       "      <th>2</th>\n",
       "      <td>01001499999</td>\n",
       "      <td>2021-01-04</td>\n",
       "      <td>59.791925</td>\n",
       "      <td>5.34085</td>\n",
       "      <td>48.76</td>\n",
       "      <td>SORSTOKKEN, NO</td>\n",
       "      <td>30.6</td>\n",
       "      <td>14</td>\n",
       "      <td>22.5</td>\n",
       "      <td>14</td>\n",
       "      <td>...</td>\n",
       "      <td>999.9</td>\n",
       "      <td>35.6</td>\n",
       "      <td>*</td>\n",
       "      <td>26.6</td>\n",
       "      <td>*</td>\n",
       "      <td>0.00</td>\n",
       "      <td>I</td>\n",
       "      <td>999.9</td>\n",
       "      <td>000000</td>\n",
       "      <td>01001499999.csv</td>\n",
       "    </tr>\n",
       "    <tr>\n",
       "      <th>3</th>\n",
       "      <td>01001499999</td>\n",
       "      <td>2021-01-05</td>\n",
       "      <td>59.791925</td>\n",
       "      <td>5.34085</td>\n",
       "      <td>48.76</td>\n",
       "      <td>SORSTOKKEN, NO</td>\n",
       "      <td>31.7</td>\n",
       "      <td>7</td>\n",
       "      <td>19.9</td>\n",
       "      <td>7</td>\n",
       "      <td>...</td>\n",
       "      <td>999.9</td>\n",
       "      <td>35.6</td>\n",
       "      <td>*</td>\n",
       "      <td>30.2</td>\n",
       "      <td>*</td>\n",
       "      <td>0.00</td>\n",
       "      <td>I</td>\n",
       "      <td>999.9</td>\n",
       "      <td>000000</td>\n",
       "      <td>01001499999.csv</td>\n",
       "    </tr>\n",
       "    <tr>\n",
       "      <th>4</th>\n",
       "      <td>01001499999</td>\n",
       "      <td>2021-01-06</td>\n",
       "      <td>59.791925</td>\n",
       "      <td>5.34085</td>\n",
       "      <td>48.76</td>\n",
       "      <td>SORSTOKKEN, NO</td>\n",
       "      <td>29.4</td>\n",
       "      <td>11</td>\n",
       "      <td>21.9</td>\n",
       "      <td>11</td>\n",
       "      <td>...</td>\n",
       "      <td>999.9</td>\n",
       "      <td>32.0</td>\n",
       "      <td>*</td>\n",
       "      <td>28.4</td>\n",
       "      <td>*</td>\n",
       "      <td>0.00</td>\n",
       "      <td>I</td>\n",
       "      <td>999.9</td>\n",
       "      <td>000000</td>\n",
       "      <td>01001499999.csv</td>\n",
       "    </tr>\n",
       "    <tr>\n",
       "      <th>...</th>\n",
       "      <td>...</td>\n",
       "      <td>...</td>\n",
       "      <td>...</td>\n",
       "      <td>...</td>\n",
       "      <td>...</td>\n",
       "      <td>...</td>\n",
       "      <td>...</td>\n",
       "      <td>...</td>\n",
       "      <td>...</td>\n",
       "      <td>...</td>\n",
       "      <td>...</td>\n",
       "      <td>...</td>\n",
       "      <td>...</td>\n",
       "      <td>...</td>\n",
       "      <td>...</td>\n",
       "      <td>...</td>\n",
       "      <td>...</td>\n",
       "      <td>...</td>\n",
       "      <td>...</td>\n",
       "      <td>...</td>\n",
       "      <td>...</td>\n",
       "    </tr>\n",
       "    <tr>\n",
       "      <th>4026545</th>\n",
       "      <td>A5125600451</td>\n",
       "      <td>2021-12-27</td>\n",
       "      <td>36.6985</td>\n",
       "      <td>-93.4022</td>\n",
       "      <td>411.2</td>\n",
       "      <td>BRANSON WEST MUNICIPAL EMERSON FIELD AIRPORT, ...</td>\n",
       "      <td>61.9</td>\n",
       "      <td>24</td>\n",
       "      <td>48.8</td>\n",
       "      <td>24</td>\n",
       "      <td>...</td>\n",
       "      <td>22.0</td>\n",
       "      <td>66.2</td>\n",
       "      <td>*</td>\n",
       "      <td>53.6</td>\n",
       "      <td>*</td>\n",
       "      <td>0.00</td>\n",
       "      <td>I</td>\n",
       "      <td>999.9</td>\n",
       "      <td>000000</td>\n",
       "      <td>A5125600451.csv</td>\n",
       "    </tr>\n",
       "    <tr>\n",
       "      <th>4026546</th>\n",
       "      <td>A5125600451</td>\n",
       "      <td>2021-12-28</td>\n",
       "      <td>36.6985</td>\n",
       "      <td>-93.4022</td>\n",
       "      <td>411.2</td>\n",
       "      <td>BRANSON WEST MUNICIPAL EMERSON FIELD AIRPORT, ...</td>\n",
       "      <td>55.2</td>\n",
       "      <td>24</td>\n",
       "      <td>37.3</td>\n",
       "      <td>24</td>\n",
       "      <td>...</td>\n",
       "      <td>22.9</td>\n",
       "      <td>66.2</td>\n",
       "      <td>*</td>\n",
       "      <td>50.0</td>\n",
       "      <td>*</td>\n",
       "      <td>99.99</td>\n",
       "      <td></td>\n",
       "      <td>999.9</td>\n",
       "      <td>110000</td>\n",
       "      <td>A5125600451.csv</td>\n",
       "    </tr>\n",
       "    <tr>\n",
       "      <th>4026547</th>\n",
       "      <td>A5125600451</td>\n",
       "      <td>2021-12-29</td>\n",
       "      <td>36.6985</td>\n",
       "      <td>-93.4022</td>\n",
       "      <td>411.2</td>\n",
       "      <td>BRANSON WEST MUNICIPAL EMERSON FIELD AIRPORT, ...</td>\n",
       "      <td>48.0</td>\n",
       "      <td>24</td>\n",
       "      <td>41.3</td>\n",
       "      <td>24</td>\n",
       "      <td>...</td>\n",
       "      <td>15.0</td>\n",
       "      <td>59.0</td>\n",
       "      <td>*</td>\n",
       "      <td>42.8</td>\n",
       "      <td>*</td>\n",
       "      <td>99.99</td>\n",
       "      <td></td>\n",
       "      <td>999.9</td>\n",
       "      <td>010000</td>\n",
       "      <td>A5125600451.csv</td>\n",
       "    </tr>\n",
       "    <tr>\n",
       "      <th>4026548</th>\n",
       "      <td>A5125600451</td>\n",
       "      <td>2021-12-30</td>\n",
       "      <td>36.6985</td>\n",
       "      <td>-93.4022</td>\n",
       "      <td>411.2</td>\n",
       "      <td>BRANSON WEST MUNICIPAL EMERSON FIELD AIRPORT, ...</td>\n",
       "      <td>51.0</td>\n",
       "      <td>24</td>\n",
       "      <td>47.4</td>\n",
       "      <td>24</td>\n",
       "      <td>...</td>\n",
       "      <td>13.0</td>\n",
       "      <td>62.6</td>\n",
       "      <td>*</td>\n",
       "      <td>44.6</td>\n",
       "      <td>*</td>\n",
       "      <td>0.00</td>\n",
       "      <td>I</td>\n",
       "      <td>999.9</td>\n",
       "      <td>100000</td>\n",
       "      <td>A5125600451.csv</td>\n",
       "    </tr>\n",
       "    <tr>\n",
       "      <th>4026549</th>\n",
       "      <td>A5125600451</td>\n",
       "      <td>2021-12-31</td>\n",
       "      <td>36.6985</td>\n",
       "      <td>-93.4022</td>\n",
       "      <td>411.2</td>\n",
       "      <td>BRANSON WEST MUNICIPAL EMERSON FIELD AIRPORT, ...</td>\n",
       "      <td>58.0</td>\n",
       "      <td>24</td>\n",
       "      <td>42.8</td>\n",
       "      <td>24</td>\n",
       "      <td>...</td>\n",
       "      <td>24.1</td>\n",
       "      <td>68.0</td>\n",
       "      <td>*</td>\n",
       "      <td>51.8</td>\n",
       "      <td>*</td>\n",
       "      <td>0.00</td>\n",
       "      <td>I</td>\n",
       "      <td>999.9</td>\n",
       "      <td>000000</td>\n",
       "      <td>A5125600451.csv</td>\n",
       "    </tr>\n",
       "  </tbody>\n",
       "</table>\n",
       "<p>4026550 rows × 29 columns</p>\n",
       "</div>"
      ],
      "text/plain": [
       "             STATION        DATE   LATITUDE LONGITUDE ELEVATION  \\\n",
       "0        01001499999  2021-01-01  59.791925   5.34085     48.76   \n",
       "1        01001499999  2021-01-03  59.791925   5.34085     48.76   \n",
       "2        01001499999  2021-01-04  59.791925   5.34085     48.76   \n",
       "3        01001499999  2021-01-05  59.791925   5.34085     48.76   \n",
       "4        01001499999  2021-01-06  59.791925   5.34085     48.76   \n",
       "...              ...         ...        ...       ...       ...   \n",
       "4026545  A5125600451  2021-12-27    36.6985  -93.4022     411.2   \n",
       "4026546  A5125600451  2021-12-28    36.6985  -93.4022     411.2   \n",
       "4026547  A5125600451  2021-12-29    36.6985  -93.4022     411.2   \n",
       "4026548  A5125600451  2021-12-30    36.6985  -93.4022     411.2   \n",
       "4026549  A5125600451  2021-12-31    36.6985  -93.4022     411.2   \n",
       "\n",
       "                                                      NAME    TEMP  \\\n",
       "0                                           SORSTOKKEN, NO    34.7   \n",
       "1                                           SORSTOKKEN, NO    35.1   \n",
       "2                                           SORSTOKKEN, NO    30.6   \n",
       "3                                           SORSTOKKEN, NO    31.7   \n",
       "4                                           SORSTOKKEN, NO    29.4   \n",
       "...                                                    ...     ...   \n",
       "4026545  BRANSON WEST MUNICIPAL EMERSON FIELD AIRPORT, ...    61.9   \n",
       "4026546  BRANSON WEST MUNICIPAL EMERSON FIELD AIRPORT, ...    55.2   \n",
       "4026547  BRANSON WEST MUNICIPAL EMERSON FIELD AIRPORT, ...    48.0   \n",
       "4026548  BRANSON WEST MUNICIPAL EMERSON FIELD AIRPORT, ...    51.0   \n",
       "4026549  BRANSON WEST MUNICIPAL EMERSON FIELD AIRPORT, ...    58.0   \n",
       "\n",
       "        TEMP_ATTRIBUTES    DEWP DEWP_ATTRIBUTES  ...   GUST     MAX  \\\n",
       "0                     6    30.2               6  ...  999.9    35.6   \n",
       "1                     8    22.8               8  ...  999.9    37.4   \n",
       "2                    14    22.5              14  ...  999.9    35.6   \n",
       "3                     7    19.9               7  ...  999.9    35.6   \n",
       "4                    11    21.9              11  ...  999.9    32.0   \n",
       "...                 ...     ...             ...  ...    ...     ...   \n",
       "4026545              24    48.8              24  ...   22.0    66.2   \n",
       "4026546              24    37.3              24  ...   22.9    66.2   \n",
       "4026547              24    41.3              24  ...   15.0    59.0   \n",
       "4026548              24    47.4              24  ...   13.0    62.6   \n",
       "4026549              24    42.8              24  ...   24.1    68.0   \n",
       "\n",
       "        MAX_ATTRIBUTES     MIN MIN_ATTRIBUTES   PRCP PRCP_ATTRIBUTES   SNDP  \\\n",
       "0                    *    33.8              *   0.00               I  999.9   \n",
       "1                    *    30.2              *   0.00               I  999.9   \n",
       "2                    *    26.6              *   0.00               I  999.9   \n",
       "3                    *    30.2              *   0.00               I  999.9   \n",
       "4                    *    28.4              *   0.00               I  999.9   \n",
       "...                ...     ...            ...    ...             ...    ...   \n",
       "4026545              *    53.6              *   0.00               I  999.9   \n",
       "4026546              *    50.0              *  99.99                  999.9   \n",
       "4026547              *    42.8              *  99.99                  999.9   \n",
       "4026548              *    44.6              *   0.00               I  999.9   \n",
       "4026549              *    51.8              *   0.00               I  999.9   \n",
       "\n",
       "         FRSHTT      SOURCE_FILE  \n",
       "0        000000  01001499999.csv  \n",
       "1        000000  01001499999.csv  \n",
       "2        000000  01001499999.csv  \n",
       "3        000000  01001499999.csv  \n",
       "4        000000  01001499999.csv  \n",
       "...         ...              ...  \n",
       "4026545  000000  A5125600451.csv  \n",
       "4026546  110000  A5125600451.csv  \n",
       "4026547  010000  A5125600451.csv  \n",
       "4026548  100000  A5125600451.csv  \n",
       "4026549  000000  A5125600451.csv  \n",
       "\n",
       "[4026550 rows x 29 columns]"
      ]
     },
     "execution_count": 64,
     "metadata": {},
     "output_type": "execute_result"
    }
   ],
   "source": [
    "df"
   ]
  },
  {
   "cell_type": "code",
   "execution_count": 41,
   "id": "ae12c90b-2269-4cc8-8cf5-7c78a06c55b4",
   "metadata": {
    "collapsed": true,
    "jupyter": {
     "outputs_hidden": true
    },
    "tags": []
   },
   "outputs": [
    {
     "data": {
      "text/plain": [
       "array([ 4200099999,  4231099999,  4261099999,  4382099999,  4390099999,\n",
       "       10136099999, 10633099999, 10755099999, 10763599999, 10856099999,\n",
       "       10653099999,  7149099999, 10864099999, 10858099999, 10866099999,\n",
       "       11010099999, 16158099999, 16298099999, 25399099999, 25595099999,\n",
       "       28116099999, 28240099999, 29642099999, 31510099999, 31532099999,\n",
       "       31594099999, 31735099999, 32583099999, 36974099999, 46751099999,\n",
       "       46696099999, 47642099999, 45005099999, 47671099999, 47110099999,\n",
       "       47850099999, 47931099999, 47643099999, 47808099999, 61902099999,\n",
       "       70104399999, 48568099999, 70203126620, 70260599999, 56778099999,\n",
       "       70116026618, 70261026411, 70272099999, 70277099999, 70292326440,\n",
       "       70296026410, 70333099999, 70361025339, 70398025308, 71035199999,\n",
       "       70485199999, 71043099999, 70454025704, 71063399999, 71090199999,\n",
       "       71189699999, 71816099999, 71903199999, 71815099999, 71913099999,\n",
       "       71907099999, 71803099999, 71915099999, 71916499999, 71918199999,\n",
       "       71924099999, 71926099999, 71936099999, 71937199999, 71934099999,\n",
       "       71935399999, 71953199999, 71966099999, 71968199999, 72205112841,\n",
       "       72223513838, 72231012916, 72244899999, 72248513944, 72248613942,\n",
       "       72251712932, 72254599999, 72257599999, 72253012921, 72253512909,\n",
       "       72258013960, 72263099999, 72261022004, 72265623040, 72267023042,\n",
       "       72269699999, 72258593901, 72278623104, 72297023129, 72306013722,\n",
       "       72317013723, 72327399999, 72354013919, 72344613971, 72355599999,\n",
       "       72356013968, 72355013945, 72360123007, 72266013962, 72367623048,\n",
       "       72367723054, 72404013721, 72433813802, 72424013807, 72466093037,\n",
       "       72455013947, 72466399999, 72407093730, 72481023203, 72483523206,\n",
       "       72509014739, 72510114712, 72511514711, 72518014735, 72519014771,\n",
       "       72519614717, 72530094846, 72531014806, 72581024193, 74206024207,\n",
       "       74570013840, 74090099999, 74732099999, 72775524112, 74594013705,\n",
       "       74790013849, 74788012810, 74791013717, 74775013846, 74901099999,\n",
       "       74906699999, 74910999999, 74911899999, 74912099999, 74912199999,\n",
       "       74912799999, 74913099999, 74913299999, 74914099999, 74916399999,\n",
       "       74914299999, 74920599999, 74922299999, 74923099999, 74934799999,\n",
       "       74917899999, 74935199999, 74944599999, 74934899999, 74950999999,\n",
       "       78793099999, 74913699999, 78807899999, 74950199999, 78970099999,\n",
       "       78948099999, 81001099999, 84001099999, 84390099999, 78807199999,\n",
       "       85577099999, 91190322516, 91203099999, 91245041606, 91334040505,\n",
       "       91275021603, 91408040309, 91490099999, 91520099999, 94203099999,\n",
       "       94120099999, 94212099999, 94300099999, 94287599999, 94335099999,\n",
       "       94510099999, 94610599999, 94637099999, 94374099999, 94767599999,\n",
       "       94926099999, 94995099999, 94999900013, 94999900137, 99999911630,\n",
       "       99999912850, 99999913710, 99999913752, 99999913753, 99999913725,\n",
       "       99999913760, 99999913983, 99999910715, 99999913771, 99999914752,\n",
       "       99999913994, 99999914762, 99999914780, 99999914786, 99999914788,\n",
       "       99999914793, 99999993840, 99999914855, 99999914856, 99999914933,\n",
       "       99999993837, 99999922515, 99999914948, 99999922519, 99999914947,\n",
       "       99999923012, 99999923174, 99999993832, 99999923232, 99999923199,\n",
       "       99999993115, 99999993107, 99999923239, 99999993111, 99999993104,\n",
       "       99999993032, 99999942210, 99999924254, 99999926616, 99999943204,\n",
       "       99999923272, 99999941411, 99999926617,  3135099999,  3658499999,\n",
       "        4018016201,  4270099999,  4280199999,  4339099999,  7510099999,\n",
       "        7647099999,  8509099999, 10384099999, 10439099999, 10637099999,\n",
       "       10658099999, 10687599999, 10729099999, 10734099999, 10788099999,\n",
       "       10869099999, 25913099999, 11030099999, 31444099999, 10738099999,\n",
       "       31561099999, 31587099999, 31588099999, 32213099999, 40416099999,\n",
       "       46743099999, 32509099999, 47425099999, 47635099999, 47660099999,\n",
       "       47771099999, 47803099999, 32540099999, 48327099999, 48354099999,\n",
       "       46763099999, 47981099999, 48456099999, 52533099999, 54511099999,\n",
       "       57745099999, 59046099999, 59287099999, 60156099999, 62011199999,\n",
       "       65660099999, 69117499999, 70026027502, 70086027401, 70162026508,\n",
       "       70174026533, 70219026615, 70261599999, 70265099999, 70267026415,\n",
       "       70271026425, 70291026412, 70316025624, 70343025402, 70350025501,\n",
       "       70273526409, 70326025503, 70414099999, 70454599999, 70489099999,\n",
       "       71043599999, 71045099999, 71705099999, 71707099999, 71801099999,\n",
       "       71807099999, 71906099999, 71908199999, 71917099999, 71909099999,\n",
       "       71935099999, 71938099999, 71946599999, 71946099999, 71953099999,\n",
       "       71911199999, 71957699999, 71964099999, 71969199999, 71967599999,\n",
       "       71965099999, 72208013880, 72217513860, 72221013858, 72226513821,\n",
       "       72227013864, 72226613850, 72231553917, 72225013829, 72240513976,\n",
       "       72240003937, 72235003940, 72242312923, 72243599999, 72252512920,\n",
       "       72251012924, 72259513911, 72250012919, 72259613961, 72253612911,\n",
       "       72268023009, 72270023044, 72265723041, 72286623122, 72269599999,\n",
       "       72286023119, 72303013714, 72290693112, 72311913886, 72341813977,\n",
       "       72344013964, 72351013966, 72352713975, 72353013967, 72353599999,\n",
       "       72354613969, 72363023047, 72365023050, 72365623049, 72381023114,\n",
       "       72405013743, 72406093721, 72428513812, 72429613841, 72458613922,\n",
       "       72469023062, 72456513920, 72495623211, 72503814714, 72505699999,\n",
       "       72520094823, 72528014733, 72456713921, 72552699999, 72555699999,\n",
       "       72575524101, 72483623208, 72713014604, 72658014922, 72537714804,\n",
       "       74394199999, 72785524114, 74490014702, 74491014703, 74516023202,\n",
       "       74598013702, 74734099999, 74768613820, 74795012867, 74902699999,\n",
       "       74903199999, 74903499999, 74903699999, 74904499999, 74907099999,\n",
       "       74909999999, 74910599999, 74914199999, 74916499999, 74912699999,\n",
       "       74916599999, 74940099999, 74931699999, 74949899999, 74951599999,\n",
       "       74952099999, 74953899999, 74941499999, 78016013601, 78118012714,\n",
       "       78367011706, 78397099999, 78439099999, 78457099999, 78486099999,\n",
       "       78514099999, 78806099999, 78807999999, 78861099999, 84752099999,\n",
       "       81225099999, 85442099999, 91170022508, 91180099999, 91182022521,\n",
       "       91066022701, 91250099999, 91366040604, 94294599999, 91385099999,\n",
       "       91558099999, 94326599999, 94326099999, 94403099999, 94476099999,\n",
       "       94608099999, 94653099999, 94693099999, 94312099999, 94821099999,\n",
       "       94865099999, 94907099999, 94646099999, 94910099999, 94968099999,\n",
       "       94970099999, 94996099999, 94999900024, 94999900073, 94999900080,\n",
       "       94999900175, 94999900222, 98223099999, 98326099999, 98327099999,\n",
       "       95677099999, 95866099999, 99999911618, 98429099999, 99999912926,\n",
       "       99999911621, 99999913017, 99999913750, 99999913739, 99999913751,\n",
       "       99999913755, 99999913769, 99999913773, 99999913754, 99999914743,\n",
       "       98618099999, 99999914830, 99999913874, 99999914834, 99999914849,\n",
       "       99999994735, 99999994702, 99999914936, 99999993830, 99999993829,\n",
       "       99999993841, 99999993116, 99999922602, 99999993909, 99999993101,\n",
       "       99999922517, 99999993113, 99999993114, 99999993106, 99999923244,\n",
       "       99999945709, 99999924155, 99999924244, 99999943205, 99999924255,\n",
       "       99999925709, 99999942501, 99999923246, 99999941406, 99999941224,\n",
       "       99999941229])"
      ]
     },
     "execution_count": 41,
     "metadata": {},
     "output_type": "execute_result"
    }
   ],
   "source": [
    "df['STATION'].unique()"
   ]
  },
  {
   "cell_type": "code",
   "execution_count": 65,
   "id": "9b8a1556-5085-4f28-a282-e1d6f02e3f92",
   "metadata": {},
   "outputs": [
    {
     "data": {
      "text/plain": [
       "12275"
      ]
     },
     "execution_count": 65,
     "metadata": {},
     "output_type": "execute_result"
    }
   ],
   "source": [
    "len(df['STATION'].unique())"
   ]
  },
  {
   "cell_type": "code",
   "execution_count": null,
   "id": "f1f94b5b-b639-486e-b03e-ef4ea90b0ef2",
   "metadata": {
    "collapsed": true,
    "jupyter": {
     "outputs_hidden": true
    },
    "tags": []
   },
   "outputs": [
    {
     "data": {
      "text/plain": [
       "array(['SORSTOKKEN, NO', 'VERLEGENHUKEN, NO', 'JAN MAYEN NOR NAVY, NO',\n",
       "       ..., 'DEMOPOLIS MUNICIPAL AIRPORT, AL US',\n",
       "       'ELBOW LAKE MUNICIPAL PRIDE OF THE PRAIRIE AIRPORT, MN US',\n",
       "       'BRANSON WEST MUNICIPAL EMERSON FIELD AIRPORT, MO US'],\n",
       "      dtype=object)"
      ]
     },
     "execution_count": 66,
     "metadata": {},
     "output_type": "execute_result"
    }
   ],
   "source": [
    "df['NAME'].unique()"
   ]
  },
  {
   "cell_type": "code",
   "execution_count": 67,
   "id": "5d389ec5-010f-4237-9fdc-2d2e94dca741",
   "metadata": {
    "collapsed": true,
    "jupyter": {
     "outputs_hidden": true
    },
    "tags": []
   },
   "outputs": [
    {
     "data": {
      "text/plain": [
       "72442013997    365\n",
       "72330003975    365\n",
       "72340693991    365\n",
       "72787094119    365\n",
       "72335013877    365\n",
       "              ... \n",
       "91592099999      1\n",
       "91577099999      1\n",
       "94462099999      1\n",
       "61226099999      1\n",
       "61802099999      1\n",
       "Name: STATION, Length: 12275, dtype: int64"
      ]
     },
     "execution_count": 67,
     "metadata": {},
     "output_type": "execute_result"
    }
   ],
   "source": [
    "df['STATION'].value_counts()"
   ]
  },
  {
   "cell_type": "code",
   "execution_count": 41,
   "id": "cd3f87a3-66a4-4c47-9ac2-ad82a140d3a2",
   "metadata": {},
   "outputs": [],
   "source": [
    "stations = list(df['STATION'].unique())"
   ]
  },
  {
   "cell_type": "code",
   "execution_count": 42,
   "id": "d6cb8eb5-333a-476a-a4e7-7eae376f8652",
   "metadata": {},
   "outputs": [],
   "source": [
    "station_index = df.set_index('STATION')"
   ]
  },
  {
   "cell_type": "code",
   "execution_count": 55,
   "id": "52564f8e-3828-4cef-9caf-d897281b2ed6",
   "metadata": {},
   "outputs": [
    {
     "name": "stdout",
     "output_type": "stream",
     "text": [
      "STATION      LATITUDE   LONGITUDE   ELEVATION\n",
      "01001099999  70.933333  -8.666667   9.00         362\n",
      "01001499999  59.791925   5.340850   48.76        288\n",
      "01002099999  80.050000   16.250000  8.00          26\n",
      "01003099999  77.000000   15.500000  12.00         56\n",
      "01006099999  78.250000   22.816667  14.00         22\n",
      "                                                ... \n",
      "A0735500241  43.579000  -90.913000  394.10       351\n",
      "A0735700182  45.986000  -95.992000  367.30       331\n",
      "A0735900240  42.938000  -85.061000  249.00       363\n",
      "A5125500445  32.463830  -87.954050  34.10        361\n",
      "A5125600451  36.698500  -93.402200  411.20       363\n",
      "Length: 12275, dtype: int64\n",
      "<class 'pandas.core.series.Series'>\n",
      "38\n",
      "['99999900459', '99999900180', '99999900263', '99999994044', '99999994045', '99999900379', '99999900126', '99999900438', '99999900234', '99999953830', '99999900325', '99999900319', '99999963904', '99999900349', '89009090001', '99999900237', '99999900381', '99999953182', '99999900430', '99999900177', '99999900157', '99999993733', '99999900238', '99999900288', '99999900321', '99999900322', '99999994099', '99999900236', '99999900210', '99999900378', '99999900179', '99999900335', '99999900170', '99999954918', '99999992828', '99999900446', '99999904835', '99999900439']\n"
     ]
    }
   ],
   "source": [
    "# Confirm all stations each has consistent spatial data\n",
    "grouped_spatial_df = station_index.groupby('STATION')[['LATITUDE', 'LONGITUDE', 'ELEVATION']].value_counts(dropna=False)\n",
    "# grouped_spatial_df = station_index.groupby('STATION')[['LATITUDE', 'LONGITUDE', 'ELEVATION']].value_counts()\n",
    "if len(grouped_spatial_df) == len(station_index.index.unique()):\n",
    "    print(grouped_spatial_df)\n",
    "    pass\n",
    "else:\n",
    "    print('Spatial data not all unique.')\n",
    "    # Get duplicate indexes to identify stations with inconsistent spatial data\n",
    "    spatial_data_errors_l = grouped_spatial_df.get_duplicates()\n",
    "    \n",
    "# Get stations with missing spatial data\n",
    "not_nan_df = station_index.groupby('STATION')[['LATITUDE', 'LONGITUDE', 'ELEVATION']].value_counts()\n",
    "not_nan_stations = not_nan_df.index.unique()\n",
    "not_nan_stations = [x[0] for x in list(not_nan_stations)]\n",
    "spatial_data_missing_l = list(set(stations).difference(set(not_nan_stations)))\n",
    "if spatial_data_missing_l:\n",
    "    "
   ]
  },
  {
   "cell_type": "code",
   "execution_count": null,
   "id": "ef0d877c-b596-4640-8b7c-c6c3ad6353b3",
   "metadata": {},
   "outputs": [],
   "source": [
    "# Get duplicates"
   ]
  },
  {
   "cell_type": "code",
   "execution_count": 16,
   "id": "2b8db929-3ae6-488f-aff9-81bbd54026b9",
   "metadata": {},
   "outputs": [
    {
     "name": "stdout",
     "output_type": "stream",
     "text": [
      "12275\n",
      "12275\n",
      "12275\n",
      "12275 12275\n"
     ]
    }
   ],
   "source": [
    "grouped_df = station_index.groupby('STATION')[['LATITUDE', 'LONGITUDE', 'ELEVATION']].value_counts(dropna=False)\n",
    "\n",
    "print(len(station_index.index.unique()))\n",
    "grouped_unique = list(grouped_df.index.unique())\n",
    "print(len(grouped_unique))\n",
    "\n",
    "print(len(list(set(stations))))\n",
    "\n",
    "print(len(grouped_df), len(stations))\n",
    "\n",
    "grouped_df.to_csv('grouped_by.csv')"
   ]
  },
  {
   "cell_type": "code",
   "execution_count": 13,
   "id": "1c2dfdfb-e531-4ab2-9ee5-c1d938589a6b",
   "metadata": {},
   "outputs": [
    {
     "ename": "AttributeError",
     "evalue": "'DataFrameGroupBy' object has no attribute 'isna'",
     "output_type": "error",
     "traceback": [
      "\u001b[0;31m---------------------------------------------------------------------------\u001b[0m",
      "\u001b[0;31mAttributeError\u001b[0m                            Traceback (most recent call last)",
      "Input \u001b[0;32mIn [13]\u001b[0m, in \u001b[0;36m<cell line: 1>\u001b[0;34m()\u001b[0m\n\u001b[0;32m----> 1\u001b[0m grouped_df \u001b[38;5;241m=\u001b[39m \u001b[43mstation_index\u001b[49m\u001b[38;5;241;43m.\u001b[39;49m\u001b[43mgroupby\u001b[49m\u001b[43m(\u001b[49m\u001b[38;5;124;43m'\u001b[39;49m\u001b[38;5;124;43mSTATION\u001b[39;49m\u001b[38;5;124;43m'\u001b[39;49m\u001b[43m)\u001b[49m\u001b[43m[\u001b[49m\u001b[43m[\u001b[49m\u001b[38;5;124;43m'\u001b[39;49m\u001b[38;5;124;43mLATITUDE\u001b[39;49m\u001b[38;5;124;43m'\u001b[39;49m\u001b[43m,\u001b[49m\u001b[43m \u001b[49m\u001b[38;5;124;43m'\u001b[39;49m\u001b[38;5;124;43mLONGITUDE\u001b[39;49m\u001b[38;5;124;43m'\u001b[39;49m\u001b[43m,\u001b[49m\u001b[43m \u001b[49m\u001b[38;5;124;43m'\u001b[39;49m\u001b[38;5;124;43mELEVATION\u001b[39;49m\u001b[38;5;124;43m'\u001b[39;49m\u001b[43m]\u001b[49m\u001b[43m]\u001b[49m\u001b[38;5;241;43m.\u001b[39;49m\u001b[43misna\u001b[49m()\u001b[38;5;241m.\u001b[39mvalues\u001b[38;5;241m.\u001b[39many()\n\u001b[1;32m      3\u001b[0m \u001b[38;5;28mprint\u001b[39m(\u001b[38;5;28mlen\u001b[39m(grouped_df\u001b[38;5;241m.\u001b[39mindex\u001b[38;5;241m.\u001b[39munique()))\n",
      "File \u001b[0;32m~/github/NOAA-file-download/venv_jupyter/lib/python3.10/site-packages/pandas/core/groupby/groupby.py:904\u001b[0m, in \u001b[0;36mGroupBy.__getattr__\u001b[0;34m(self, attr)\u001b[0m\n\u001b[1;32m    901\u001b[0m \u001b[38;5;28;01mif\u001b[39;00m attr \u001b[38;5;129;01min\u001b[39;00m \u001b[38;5;28mself\u001b[39m\u001b[38;5;241m.\u001b[39mobj:\n\u001b[1;32m    902\u001b[0m     \u001b[38;5;28;01mreturn\u001b[39;00m \u001b[38;5;28mself\u001b[39m[attr]\n\u001b[0;32m--> 904\u001b[0m \u001b[38;5;28;01mraise\u001b[39;00m \u001b[38;5;167;01mAttributeError\u001b[39;00m(\n\u001b[1;32m    905\u001b[0m     \u001b[38;5;124mf\u001b[39m\u001b[38;5;124m\"\u001b[39m\u001b[38;5;124m'\u001b[39m\u001b[38;5;132;01m{\u001b[39;00m\u001b[38;5;28mtype\u001b[39m(\u001b[38;5;28mself\u001b[39m)\u001b[38;5;241m.\u001b[39m\u001b[38;5;18m__name__\u001b[39m\u001b[38;5;132;01m}\u001b[39;00m\u001b[38;5;124m'\u001b[39m\u001b[38;5;124m object has no attribute \u001b[39m\u001b[38;5;124m'\u001b[39m\u001b[38;5;132;01m{\u001b[39;00mattr\u001b[38;5;132;01m}\u001b[39;00m\u001b[38;5;124m'\u001b[39m\u001b[38;5;124m\"\u001b[39m\n\u001b[1;32m    906\u001b[0m )\n",
      "\u001b[0;31mAttributeError\u001b[0m: 'DataFrameGroupBy' object has no attribute 'isna'"
     ]
    }
   ],
   "source": [
    "grouped_df = station_index.groupby('STATION')[['LATITUDE', 'LONGITUDE', 'ELEVATION']].isna().values.any()\n",
    "\n",
    "print(len(grouped_df.index.unique()))"
   ]
  },
  {
   "cell_type": "code",
   "execution_count": 20,
   "id": "0b965dfc-f644-437a-a7bb-9447ec8553a2",
   "metadata": {},
   "outputs": [
    {
     "name": "stdout",
     "output_type": "stream",
     "text": [
      "12237\n"
     ]
    },
    {
     "name": "stderr",
     "output_type": "stream",
     "text": [
      "loop over stations:   0%|                                           | 2/12275 [00:00<37:11,  5.50it/s]"
     ]
    },
    {
     "name": "stdout",
     "output_type": "stream",
     "text": [
      "LATITUDE   LONGITUDE  ELEVATION\n",
      "59.791925  5.34085    48.76        288\n",
      "dtype: int64\n",
      "LATITUDE  LONGITUDE  ELEVATION\n",
      "80.05     16.25      8.0          26\n",
      "dtype: int64\n"
     ]
    },
    {
     "name": "stderr",
     "output_type": "stream",
     "text": [
      "loop over stations:   0%|                                           | 4/12275 [00:00<28:14,  7.24it/s]"
     ]
    },
    {
     "name": "stdout",
     "output_type": "stream",
     "text": [
      "LATITUDE    LONGITUDE   ELEVATION\n",
      "70.9333333  -8.6666667  9.0          362\n",
      "dtype: int64\n",
      "LATITUDE  LONGITUDE   ELEVATION\n",
      "78.25     22.8166666  14.0         22\n",
      "dtype: int64\n"
     ]
    },
    {
     "name": "stderr",
     "output_type": "stream",
     "text": [
      "loop over stations:   0%|                                           | 6/12275 [00:00<25:32,  8.01it/s]"
     ]
    },
    {
     "name": "stdout",
     "output_type": "stream",
     "text": [
      "LATITUDE  LONGITUDE  ELEVATION\n",
      "77.0      15.5       12.0         56\n",
      "dtype: int64\n",
      "LATITUDE  LONGITUDE  ELEVATION\n",
      "80.65     25.0       5.0          26\n",
      "dtype: int64\n"
     ]
    },
    {
     "name": "stderr",
     "output_type": "stream",
     "text": [
      "loop over stations:   0%|                                           | 9/12275 [00:01<22:59,  8.89it/s]"
     ]
    },
    {
     "name": "stdout",
     "output_type": "stream",
     "text": [
      "LATITUDE   LONGITUDE  ELEVATION\n",
      "78.246111  15.465556  26.82        362\n",
      "dtype: int64\n",
      "LATITUDE    LONGITUDE   ELEVATION\n",
      "78.9166666  11.9333333  7.7          195\n",
      "dtype: int64\n",
      "LATITUDE    LONGITUDE  ELEVATION\n",
      "80.0666666  31.5       10.0         21\n",
      "dtype: int64\n"
     ]
    },
    {
     "name": "stderr",
     "output_type": "stream",
     "text": [
      "loop over stations:   0%|                                          | 12/12275 [00:01<21:38,  9.44it/s]"
     ]
    },
    {
     "name": "stdout",
     "output_type": "stream",
     "text": [
      "LATITUDE  LONGITUDE  ELEVATION\n",
      "69.2925   16.144167  13.1         362\n",
      "dtype: int64\n",
      "LATITUDE    LONGITUDE  ELEVATION\n",
      "78.9333333  28.9       20.0         18\n",
      "dtype: int64\n",
      "LATITUDE  LONGITUDE   ELEVATION\n",
      "69.6      17.8333333  14.0         342\n",
      "dtype: int64\n"
     ]
    },
    {
     "name": "stderr",
     "output_type": "stream",
     "text": [
      "loop over stations:   0%|                                          | 15/12275 [00:01<22:57,  8.90it/s]"
     ]
    },
    {
     "name": "stdout",
     "output_type": "stream",
     "text": [
      "LATITUDE    LONGITUDE   ELEVATION\n",
      "77.6833333  14.7833333  6.0          16\n",
      "dtype: int64\n",
      "LATITUDE    LONGITUDE  ELEVATION\n",
      "76.4833333  16.55      10.0         24\n",
      "dtype: int64\n",
      "LATITUDE   LONGITUDE  ELEVATION\n",
      "69.055758  18.540356  76.8         363\n",
      "dtype: int64\n"
     ]
    },
    {
     "name": "stderr",
     "output_type": "stream",
     "text": [
      "loop over stations:   0%|                                          | 16/12275 [00:02<26:08,  7.81it/s]\n"
     ]
    },
    {
     "name": "stdout",
     "output_type": "stream",
     "text": [
      "LATITUDE  LONGITUDE  ELEVATION\n",
      "64.35     7.8        0.0          46\n",
      "dtype: int64\n"
     ]
    },
    {
     "ename": "KeyboardInterrupt",
     "evalue": "",
     "output_type": "error",
     "traceback": [
      "\u001b[0;31m---------------------------------------------------------------------------\u001b[0m",
      "\u001b[0;31mKeyboardInterrupt\u001b[0m                         Traceback (most recent call last)",
      "Input \u001b[0;32mIn [20]\u001b[0m, in \u001b[0;36m<cell line: 10>\u001b[0;34m()\u001b[0m\n\u001b[1;32m      9\u001b[0m exit()\n\u001b[1;32m     10\u001b[0m \u001b[38;5;28;01mfor\u001b[39;00m station \u001b[38;5;129;01min\u001b[39;00m tqdm(stations, desc\u001b[38;5;241m=\u001b[39m\u001b[38;5;124m'\u001b[39m\u001b[38;5;124mloop over stations\u001b[39m\u001b[38;5;124m'\u001b[39m):\n\u001b[1;32m     11\u001b[0m    \n\u001b[1;32m     12\u001b[0m     \u001b[38;5;66;03m# ANY SPATIAL DATA MISSING\u001b[39;00m\n\u001b[0;32m   (...)\u001b[0m\n\u001b[1;32m     16\u001b[0m \n\u001b[1;32m     17\u001b[0m     \u001b[38;5;66;03m# one_station_df = station_index.loc[station]\u001b[39;00m\n\u001b[0;32m---> 19\u001b[0m     unique_l \u001b[38;5;241m=\u001b[39m \u001b[43mstation_index\u001b[49m\u001b[38;5;241;43m.\u001b[39;49m\u001b[43mloc\u001b[49m\u001b[43m[\u001b[49m\u001b[43mstation\u001b[49m\u001b[43m]\u001b[49m[[\u001b[38;5;124m'\u001b[39m\u001b[38;5;124mLATITUDE\u001b[39m\u001b[38;5;124m'\u001b[39m, \u001b[38;5;124m'\u001b[39m\u001b[38;5;124mLONGITUDE\u001b[39m\u001b[38;5;124m'\u001b[39m, \u001b[38;5;124m'\u001b[39m\u001b[38;5;124mELEVATION\u001b[39m\u001b[38;5;124m'\u001b[39m]]\u001b[38;5;241m.\u001b[39mvalue_counts()\n\u001b[1;32m     20\u001b[0m     \u001b[38;5;66;03m# unique_l = one_station_df[['LATITUDE', 'LONGITUDE', 'ELEVATION']].nunique().drop_duplicates()\u001b[39;00m\n\u001b[1;32m     21\u001b[0m     \u001b[38;5;28mprint\u001b[39m(unique_l)\n",
      "File \u001b[0;32m~/github/NOAA-file-download/venv_jupyter/lib/python3.10/site-packages/pandas/core/indexing.py:967\u001b[0m, in \u001b[0;36m_LocationIndexer.__getitem__\u001b[0;34m(self, key)\u001b[0m\n\u001b[1;32m    964\u001b[0m axis \u001b[38;5;241m=\u001b[39m \u001b[38;5;28mself\u001b[39m\u001b[38;5;241m.\u001b[39maxis \u001b[38;5;129;01mor\u001b[39;00m \u001b[38;5;241m0\u001b[39m\n\u001b[1;32m    966\u001b[0m maybe_callable \u001b[38;5;241m=\u001b[39m com\u001b[38;5;241m.\u001b[39mapply_if_callable(key, \u001b[38;5;28mself\u001b[39m\u001b[38;5;241m.\u001b[39mobj)\n\u001b[0;32m--> 967\u001b[0m \u001b[38;5;28;01mreturn\u001b[39;00m \u001b[38;5;28;43mself\u001b[39;49m\u001b[38;5;241;43m.\u001b[39;49m\u001b[43m_getitem_axis\u001b[49m\u001b[43m(\u001b[49m\u001b[43mmaybe_callable\u001b[49m\u001b[43m,\u001b[49m\u001b[43m \u001b[49m\u001b[43maxis\u001b[49m\u001b[38;5;241;43m=\u001b[39;49m\u001b[43maxis\u001b[49m\u001b[43m)\u001b[49m\n",
      "File \u001b[0;32m~/github/NOAA-file-download/venv_jupyter/lib/python3.10/site-packages/pandas/core/indexing.py:1202\u001b[0m, in \u001b[0;36m_LocIndexer._getitem_axis\u001b[0;34m(self, key, axis)\u001b[0m\n\u001b[1;32m   1200\u001b[0m \u001b[38;5;66;03m# fall thru to straight lookup\u001b[39;00m\n\u001b[1;32m   1201\u001b[0m \u001b[38;5;28mself\u001b[39m\u001b[38;5;241m.\u001b[39m_validate_key(key, axis)\n\u001b[0;32m-> 1202\u001b[0m \u001b[38;5;28;01mreturn\u001b[39;00m \u001b[38;5;28;43mself\u001b[39;49m\u001b[38;5;241;43m.\u001b[39;49m\u001b[43m_get_label\u001b[49m\u001b[43m(\u001b[49m\u001b[43mkey\u001b[49m\u001b[43m,\u001b[49m\u001b[43m \u001b[49m\u001b[43maxis\u001b[49m\u001b[38;5;241;43m=\u001b[39;49m\u001b[43maxis\u001b[49m\u001b[43m)\u001b[49m\n",
      "File \u001b[0;32m~/github/NOAA-file-download/venv_jupyter/lib/python3.10/site-packages/pandas/core/indexing.py:1153\u001b[0m, in \u001b[0;36m_LocIndexer._get_label\u001b[0;34m(self, label, axis)\u001b[0m\n\u001b[1;32m   1151\u001b[0m \u001b[38;5;28;01mdef\u001b[39;00m \u001b[38;5;21m_get_label\u001b[39m(\u001b[38;5;28mself\u001b[39m, label, axis: \u001b[38;5;28mint\u001b[39m):\n\u001b[1;32m   1152\u001b[0m     \u001b[38;5;66;03m# GH#5667 this will fail if the label is not present in the axis.\u001b[39;00m\n\u001b[0;32m-> 1153\u001b[0m     \u001b[38;5;28;01mreturn\u001b[39;00m \u001b[38;5;28;43mself\u001b[39;49m\u001b[38;5;241;43m.\u001b[39;49m\u001b[43mobj\u001b[49m\u001b[38;5;241;43m.\u001b[39;49m\u001b[43mxs\u001b[49m\u001b[43m(\u001b[49m\u001b[43mlabel\u001b[49m\u001b[43m,\u001b[49m\u001b[43m \u001b[49m\u001b[43maxis\u001b[49m\u001b[38;5;241;43m=\u001b[39;49m\u001b[43maxis\u001b[49m\u001b[43m)\u001b[49m\n",
      "File \u001b[0;32m~/github/NOAA-file-download/venv_jupyter/lib/python3.10/site-packages/pandas/core/generic.py:3864\u001b[0m, in \u001b[0;36mNDFrame.xs\u001b[0;34m(self, key, axis, level, drop_level)\u001b[0m\n\u001b[1;32m   3862\u001b[0m             new_index \u001b[38;5;241m=\u001b[39m index[loc]\n\u001b[1;32m   3863\u001b[0m \u001b[38;5;28;01melse\u001b[39;00m:\n\u001b[0;32m-> 3864\u001b[0m     loc \u001b[38;5;241m=\u001b[39m \u001b[43mindex\u001b[49m\u001b[38;5;241;43m.\u001b[39;49m\u001b[43mget_loc\u001b[49m\u001b[43m(\u001b[49m\u001b[43mkey\u001b[49m\u001b[43m)\u001b[49m\n\u001b[1;32m   3866\u001b[0m     \u001b[38;5;28;01mif\u001b[39;00m \u001b[38;5;28misinstance\u001b[39m(loc, np\u001b[38;5;241m.\u001b[39mndarray):\n\u001b[1;32m   3867\u001b[0m         \u001b[38;5;28;01mif\u001b[39;00m loc\u001b[38;5;241m.\u001b[39mdtype \u001b[38;5;241m==\u001b[39m np\u001b[38;5;241m.\u001b[39mbool_:\n",
      "File \u001b[0;32m~/github/NOAA-file-download/venv_jupyter/lib/python3.10/site-packages/pandas/core/indexes/base.py:3621\u001b[0m, in \u001b[0;36mIndex.get_loc\u001b[0;34m(self, key, method, tolerance)\u001b[0m\n\u001b[1;32m   3619\u001b[0m casted_key \u001b[38;5;241m=\u001b[39m \u001b[38;5;28mself\u001b[39m\u001b[38;5;241m.\u001b[39m_maybe_cast_indexer(key)\n\u001b[1;32m   3620\u001b[0m \u001b[38;5;28;01mtry\u001b[39;00m:\n\u001b[0;32m-> 3621\u001b[0m     \u001b[38;5;28;01mreturn\u001b[39;00m \u001b[38;5;28;43mself\u001b[39;49m\u001b[38;5;241;43m.\u001b[39;49m\u001b[43m_engine\u001b[49m\u001b[38;5;241;43m.\u001b[39;49m\u001b[43mget_loc\u001b[49m\u001b[43m(\u001b[49m\u001b[43mcasted_key\u001b[49m\u001b[43m)\u001b[49m\n\u001b[1;32m   3622\u001b[0m \u001b[38;5;28;01mexcept\u001b[39;00m \u001b[38;5;167;01mKeyError\u001b[39;00m \u001b[38;5;28;01mas\u001b[39;00m err:\n\u001b[1;32m   3623\u001b[0m     \u001b[38;5;28;01mraise\u001b[39;00m \u001b[38;5;167;01mKeyError\u001b[39;00m(key) \u001b[38;5;28;01mfrom\u001b[39;00m \u001b[38;5;21;01merr\u001b[39;00m\n",
      "File \u001b[0;32m~/github/NOAA-file-download/venv_jupyter/lib/python3.10/site-packages/pandas/_libs/index.pyx:136\u001b[0m, in \u001b[0;36mpandas._libs.index.IndexEngine.get_loc\u001b[0;34m()\u001b[0m\n",
      "File \u001b[0;32m~/github/NOAA-file-download/venv_jupyter/lib/python3.10/site-packages/pandas/_libs/index.pyx:160\u001b[0m, in \u001b[0;36mpandas._libs.index.IndexEngine.get_loc\u001b[0;34m()\u001b[0m\n",
      "File \u001b[0;32m~/github/NOAA-file-download/venv_jupyter/lib/python3.10/site-packages/pandas/_libs/index.pyx:201\u001b[0m, in \u001b[0;36mpandas._libs.index.IndexEngine._get_loc_duplicates\u001b[0;34m()\u001b[0m\n",
      "File \u001b[0;32m~/github/NOAA-file-download/venv_jupyter/lib/python3.10/site-packages/pandas/_libs/index.pyx:209\u001b[0m, in \u001b[0;36mpandas._libs.index.IndexEngine._maybe_get_bool_indexer\u001b[0;34m()\u001b[0m\n",
      "File \u001b[0;32m~/github/NOAA-file-download/venv_jupyter/lib/python3.10/site-packages/pandas/_libs/index.pyx:99\u001b[0m, in \u001b[0;36mpandas._libs.index._unpack_bool_indexer\u001b[0;34m()\u001b[0m\n",
      "File \u001b[0;32m<__array_function__ internals>:177\u001b[0m, in \u001b[0;36mwhere\u001b[0;34m(*args, **kwargs)\u001b[0m\n",
      "\u001b[0;31mKeyboardInterrupt\u001b[0m: "
     ]
    }
   ],
   "source": [
    "year = '2021'\n",
    "missing_spatial_df = pd.DataFrame()\n",
    "valid_df = pd.DataFrame()\n",
    "\n",
    "grouped_df = df.groupby('STATION')[['LATITUDE', 'LONGITUDE', 'ELEVATION']].value_counts()\n",
    "\n",
    "print(len(grouped_df))\n",
    "\n",
    "exit()\n",
    "for station in tqdm(stations, desc='loop over stations'):\n",
    "   \n",
    "    # ANY SPATIAL DATA MISSING\n",
    "    if df[df['STATION'] == station][['LATITUDE', 'LONGITUDE', 'ELEVATION']].isnull().values.any():\n",
    "        print('MISSING SPATIAL', station)\n",
    "    \n",
    "\n",
    "    # one_station_df = station_index.loc[station]\n",
    "    \n",
    "#     unique_l = station_index.loc[station][['LATITUDE', 'LONGITUDE', 'ELEVATION']].value_counts()\n",
    "#     # unique_l = one_station_df[['LATITUDE', 'LONGITUDE', 'ELEVATION']].nunique().drop_duplicates()\n",
    "#     print(unique_l)\n",
    "    \n",
    "#     if len(unique_l) > 1:\n",
    "#         status = False\n",
    "#         print('LAT, LONG, or ELEV are not uniform', status, station)\n",
    "    \n",
    "    \n",
    "#     # unique_l = one_station_df['LONGITUDE'].unique()\n",
    "#     # LATITUDE FOR STATION NOT UNIQUE\n",
    "#     # unique_l = df[df['STATION'] == station]['LATITUDE'].unique()\n",
    "#     if len(one_station_df['LATITUDE'].unique()) > 1:\n",
    "#         status = False\n",
    "#         print(unique_l)\n",
    "#         print('LATITUDE', status, station)\n",
    "\n",
    "#     # LONGITUDE FOR STATION NOT UNIQUE\n",
    "#     # unique_l = df[df['STATION'] == station]['LONGITUDE'].unique()\n",
    "#     if len(one_station_df['LONGITUDE'].unique()) > 1:\n",
    "#         status = False\n",
    "#         print(unique_l)\n",
    "#         print('LONGITUDE', status, station)\n",
    "    \n",
    "#     # ELEVATION FOR STATION NOT UNIQUE\n",
    "#     # unique_l = df[df['STATION'] == station]['ELEVATION'].unique()\n",
    "#     if len(one_station_df['ELEVATION'].unique()) > 1:\n",
    "#         status = False\n",
    "#         print(unique_l)\n",
    "#         print('ELEVATION', status, status)\n",
    "        \n",
    "#     print(unique_l\n",
    "        \n",
    "        \n",
    "        \n",
    "    # station_df = df[df['STATION'] == station]\n",
    "    # if (\n",
    "    #     not station_df[\"STATION\"].eq(station_df[\"STATION\"].iloc[0]).all()\n",
    "    #     or not station_df[\"LATITUDE\"].eq(station_df[\"LATITUDE\"].iloc[0]).all()\n",
    "    #     or not station_df[\"LONGITUDE\"].eq(station_df[\"LONGITUDE\"].iloc[0]).all()\n",
    "    #     or not station_df[\"ELEVATION\"].eq(station_df[\"ELEVATION\"].iloc[0]).all()\n",
    "    # ):\n",
    "    #     print('Missing spatial data', station)\n",
    "    #     error_df = station_df\n",
    "    #     missing_spatial_df = pd.concat([missing_spatial_df, error_df], ignore_index=True)\n",
    "    # else:\n",
    "    #     valid_df = pd.concat([valid_df, station_df], ignore_index = True)\n",
    "\n",
    "# missing_spatial_df.to_csv(f\"{year}_missing_spatial.csv\", index=False)\n",
    "# valid_df.to_csv(f\"{year}_full_valid.csv\", index=False)\n",
    "# print(len(missing_spatial_df))\n",
    "# print(len(valid_df))\n",
    "# error_df"
   ]
  },
  {
   "cell_type": "code",
   "execution_count": null,
   "id": "f1fcdc2e-8831-47f7-ace5-18a224323065",
   "metadata": {},
   "outputs": [],
   "source": []
  }
 ],
 "metadata": {
  "kernelspec": {
   "display_name": "Python 3 (ipykernel)",
   "language": "python",
   "name": "python3"
  },
  "language_info": {
   "codemirror_mode": {
    "name": "ipython",
    "version": 3
   },
   "file_extension": ".py",
   "mimetype": "text/x-python",
   "name": "python",
   "nbconvert_exporter": "python",
   "pygments_lexer": "ipython3",
   "version": "3.10.4"
  }
 },
 "nbformat": 4,
 "nbformat_minor": 5
}
