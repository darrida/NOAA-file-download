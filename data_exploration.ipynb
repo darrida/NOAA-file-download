{
 "cells": [
  {
   "cell_type": "code",
   "execution_count": null,
   "id": "dce8b88f-b0d6-46a4-8f27-51feac25eba5",
   "metadata": {},
   "outputs": [],
   "source": [
    "from prefect import task, flow, get_run_logger\n",
    "from prefect.task_runners import SequentialTaskRunner\n",
    "from pathlib import Path\n",
    "from pprint import pprint\n",
    "import glob\n",
    "import pandas as pd\n",
    "from tqdm import tqdm\n",
    "import matplotlib"
   ]
  },
  {
   "cell_type": "code",
   "execution_count": null,
   "id": "f38ae765-33f0-4c2e-8573-a0ee3f107871",
   "metadata": {
    "tags": []
   },
   "outputs": [],
   "source": [
    "@task()\n",
    "def find_years_to_prep(data_dir) -> list:\n",
    "    uploaded_files = glob.glob(f\"{data_dir}/**/*___complete\", recursive=True)\n",
    "    uploaded_files = [x.replace(\"___complete\", \"\") for x in uploaded_files]\n",
    "    \n",
    "    prepped_files = glob.glob(f\"{data_dir}/**/*___prepped\", recursive=True)\n",
    "    prepped_files = [x.replace(\"___prepped\", \"\") for x in prepped_files]\n",
    "    \n",
    "    return list(set(uploaded_files).difference(set(prepped_files)))"
   ]
  },
  {
   "cell_type": "code",
   "execution_count": null,
   "id": "dbbac726-9953-4e2a-8e53-b0d3aa78ce88",
   "metadata": {},
   "outputs": [],
   "source": [
    "@task()\n",
    "def open_csv_station_index(filename: Path|str) -> pd.DataFrame:\n",
    "    year = str(filename)[:4]\n",
    "    df = pd.read_csv(filename, low_memory=False) #, dtype=str)\n",
    "    df[['LATITUDE', 'LONGITUDE', 'ELEVATION']] = df[['LATITUDE', 'LONGITUDE', 'ELEVATION']].fillna('missing')\n",
    "    return df.set_index('STATION')"
   ]
  },
  {
   "cell_type": "code",
   "execution_count": null,
   "id": "d2de47c9-a150-4145-82f4-464e7c53f0f5",
   "metadata": {},
   "outputs": [],
   "source": [
    "@task()\n",
    "def remove_missing_spatial(df: pd.DataFrame) -> pd.DataFrame:\n",
    "    \"\"\"\n",
    "    Removes Records with Missing Spatial Data\n",
    "    - If 'NaN' exists, replaces with 'missing'\n",
    "    - Returns dataframe with all 'missing' spatial elements removed\n",
    "    - Why: This is 100x (guestimate) faster than saving a separate csv with this information removed. Quicker to just\n",
    "           run this function when a dataframe with 100% clean spatial data is required\n",
    "    \"\"\"\n",
    "    df = df[['LATITUDE', 'LONGITUDE', 'ELEVATION']] = df[['LATITUDE', 'LONGITUDE', 'ELEVATION']].fillna('missing')\n",
    "    return df[(df['LATITUDE'] != 'missing') & (df['LONGITUDE'] != 'missing') & (df['ELEVATION'] != 'missing')]"
   ]
  },
  {
   "cell_type": "code",
   "execution_count": null,
   "id": "c6acb67e-9e9a-458a-bd53-4e3f08493673",
   "metadata": {
    "tags": []
   },
   "outputs": [],
   "source": [
    "@task()\n",
    "def find_missing_lat_long(station_indexed_df: pd.DataFrame, filename: Path|str) -> pd.DataFrame:\n",
    "    \"\"\"\n",
    "    NOTE: Assumes dataframe has had 'nan' replaced with 'missing' string already.\n",
    "    \"\"\"\n",
    "    # FIND RECORDS MISSING LATITUDE OR LONGITUDE (or both)\n",
    "    df = station_indexed_df\n",
    "    df = df[(df['LATITUDE']=='missing') | (df['LONGITUDE']=='missing')]\n",
    "    df = df.reset_index()\n",
    "    \n",
    "    if isinstance(filename, str):\n",
    "        filename = Path(filename)\n",
    "    year = filename.name[:4]  # separated from f-string for clarity\n",
    "    df.to_csv(Path(filename.parent) / f\"{year}_missing_lat_long.csv\")\n",
    "    return"
   ]
  },
  {
   "cell_type": "code",
   "execution_count": null,
   "id": "14ae0445-21d4-46f3-a3d4-1a6c6c050686",
   "metadata": {
    "tags": []
   },
   "outputs": [],
   "source": [
    "@task()\n",
    "def find_missing_elevation(station_indexed_df: pd.DataFrame, filename: str) -> pd.DataFrame:\n",
    "    \"\"\"\n",
    "    NOTE: Assumes dataframe has had 'nan' replaced with 'missing' string already.\n",
    "    \"\"\"\n",
    "    # FIND RECORDS MISSING ONLY ELEVATION\n",
    "    # - these could likely still be used\n",
    "    # - may also be able to pull elevation from else where based on latitude and longitude\n",
    "    df = station_indexed_df\n",
    "    df = df[(df['LATITUDE'] != 'missing') & (df['LONGITUDE'] != 'missing') & (df['ELEVATION'] == 'missing')]\n",
    "    df = df.reset_index()\n",
    "    \n",
    "    if isinstance(filename, str):\n",
    "        filename = Path(filename)\n",
    "    year = filename.name[:4]  # separated from f-string for clarity\n",
    "    df.to_csv(Path(filename.parent) / f\"{year}_missing_only_elevation.csv\")\n",
    "    return"
   ]
  },
  {
   "cell_type": "code",
   "execution_count": null,
   "id": "52564f8e-3828-4cef-9caf-d897281b2ed6",
   "metadata": {
    "tags": []
   },
   "outputs": [],
   "source": [
    "@task()\n",
    "def confirm_consistent_spatial_data(station_indexed_df: pd.DataFrame, filename: Path|str) -> pd.DataFrame:\n",
    "    \"\"\"\n",
    "    NOTE: Assumes dataframe has had 'nan' replaced with 'missing' string already.\n",
    "    \"\"\"\n",
    "    # Confirm all stations each has consistent spatial data\n",
    "    # - *drop* records where spatial data is missing\n",
    "    # - only runs after previous tasks for missing spatial data are complete\n",
    "    df = station_indexed_df\n",
    "    station_grouped_df = df.groupby('STATION')[['LATITUDE', 'LONGITUDE', 'ELEVATION']].value_counts() #dropna=False)\n",
    "    if len(station_grouped_df) == len(df.index.unique()):\n",
    "        # run again, but drop records with 'nan' spatial values\n",
    "        # df = df[(df['LATITUDE'] != 'missing') & (df['LONGITUDE'] != 'missing') & (df['ELEVATION'] != 'missing')]\n",
    "        # df = df.reset_index()\n",
    "        return\n",
    "    else:\n",
    "        # TODO: This part doesn't work yet; also haven't had an inconsistencies above either (i.e., \"else\" has never been triggered).\n",
    "        raise ValueError(f'Spatial data for one or more station ids is not consistent in: {filename}')"
   ]
  },
  {
   "cell_type": "code",
   "execution_count": null,
   "id": "1cd54775-de2b-4a4f-8b82-37152ef909f7",
   "metadata": {},
   "outputs": [],
   "source": [
    "@task()\n",
    "def data_clean_complete(filename):\n",
    "    \"\"\"\n",
    "    In prefect flow should \"wait_for\" missing_lat_long, missing_elevation, and confirm_consistent to all be successfully completed\n",
    "    \"\"\"\n",
    "    with open(f\"{filename}___prepped\", 'w'):\n",
    "        pass"
   ]
  },
  {
   "cell_type": "code",
   "execution_count": 92,
   "id": "f1fcdc2e-8831-47f7-ace5-18a224323065",
   "metadata": {
    "scrolled": true,
    "tags": []
   },
   "outputs": [
    {
     "name": "stderr",
     "output_type": "stream",
     "text": [
      "Exception ignored in: <coroutine object create_and_submit_task_run at 0x7f3f73a38040>\n",
      "Traceback (most recent call last):\n",
      "  File \"<string>\", line 1, in <lambda>\n",
      "KeyError: '__import__'\n",
      "Exception ignored in: <coroutine object create_and_submit_task_run at 0x7f3f73a38040>\n",
      "Traceback (most recent call last):\n",
      "  File \"<string>\", line 1, in <lambda>\n",
      "KeyError: '__import__'\n"
     ]
    },
    {
     "ename": "KeyboardInterrupt",
     "evalue": "",
     "output_type": "error",
     "traceback": [
      "\u001b[0;31m---------------------------------------------------------------------------\u001b[0m",
      "\u001b[0;31mKeyboardInterrupt\u001b[0m                         Traceback (most recent call last)",
      "File \u001b[0;32m~/github/NOAA-file-download/venv_jupyter/lib/python3.10/site-packages/anyio/from_thread.py:495\u001b[0m, in \u001b[0;36mstart_blocking_portal\u001b[0;34m(backend, backend_options)\u001b[0m\n\u001b[1;32m    494\u001b[0m \u001b[38;5;28;01mtry\u001b[39;00m:\n\u001b[0;32m--> 495\u001b[0m     \u001b[38;5;28;01myield\u001b[39;00m portal\n\u001b[1;32m    496\u001b[0m \u001b[38;5;28;01mexcept\u001b[39;00m \u001b[38;5;167;01mBaseException\u001b[39;00m:\n",
      "File \u001b[0;32m~/github/NOAA-file-download/venv_jupyter/lib/python3.10/site-packages/prefect/engine.py:107\u001b[0m, in \u001b[0;36menter_flow_run_engine_from_flow_call\u001b[0;34m(flow, parameters)\u001b[0m\n\u001b[1;32m    106\u001b[0m     \u001b[38;5;28;01mwith\u001b[39;00m start_blocking_portal() \u001b[38;5;28;01mas\u001b[39;00m portal:\n\u001b[0;32m--> 107\u001b[0m         \u001b[38;5;28;01mreturn\u001b[39;00m \u001b[43mportal\u001b[49m\u001b[38;5;241;43m.\u001b[39;49m\u001b[43mcall\u001b[49m\u001b[43m(\u001b[49m\u001b[43mbegin_run\u001b[49m\u001b[43m)\u001b[49m\n\u001b[1;32m    108\u001b[0m \u001b[38;5;28;01melse\u001b[39;00m:\n\u001b[1;32m    109\u001b[0m     \u001b[38;5;66;03m# An event loop is not running so we will create one\u001b[39;00m\n",
      "File \u001b[0;32m~/github/NOAA-file-download/venv_jupyter/lib/python3.10/site-packages/anyio/from_thread.py:283\u001b[0m, in \u001b[0;36mBlockingPortal.call\u001b[0;34m(self, func, *args)\u001b[0m\n\u001b[1;32m    273\u001b[0m \u001b[38;5;124;03m\"\"\"\u001b[39;00m\n\u001b[1;32m    274\u001b[0m \u001b[38;5;124;03mCall the given function in the event loop thread.\u001b[39;00m\n\u001b[1;32m    275\u001b[0m \n\u001b[0;32m   (...)\u001b[0m\n\u001b[1;32m    281\u001b[0m \n\u001b[1;32m    282\u001b[0m \u001b[38;5;124;03m\"\"\"\u001b[39;00m\n\u001b[0;32m--> 283\u001b[0m \u001b[38;5;28;01mreturn\u001b[39;00m cast(T_Retval, \u001b[38;5;28;43mself\u001b[39;49m\u001b[38;5;241;43m.\u001b[39;49m\u001b[43mstart_task_soon\u001b[49m\u001b[43m(\u001b[49m\u001b[43mfunc\u001b[49m\u001b[43m,\u001b[49m\u001b[43m \u001b[49m\u001b[38;5;241;43m*\u001b[39;49m\u001b[43margs\u001b[49m\u001b[43m)\u001b[49m\u001b[38;5;241;43m.\u001b[39;49m\u001b[43mresult\u001b[49m\u001b[43m(\u001b[49m\u001b[43m)\u001b[49m)\n",
      "File \u001b[0;32m/usr/lib/python3.10/concurrent/futures/_base.py:441\u001b[0m, in \u001b[0;36mFuture.result\u001b[0;34m(self, timeout)\u001b[0m\n\u001b[1;32m    439\u001b[0m     \u001b[38;5;28;01mreturn\u001b[39;00m \u001b[38;5;28mself\u001b[39m\u001b[38;5;241m.\u001b[39m__get_result()\n\u001b[0;32m--> 441\u001b[0m \u001b[38;5;28;43mself\u001b[39;49m\u001b[38;5;241;43m.\u001b[39;49m\u001b[43m_condition\u001b[49m\u001b[38;5;241;43m.\u001b[39;49m\u001b[43mwait\u001b[49m\u001b[43m(\u001b[49m\u001b[43mtimeout\u001b[49m\u001b[43m)\u001b[49m\n\u001b[1;32m    443\u001b[0m \u001b[38;5;28;01mif\u001b[39;00m \u001b[38;5;28mself\u001b[39m\u001b[38;5;241m.\u001b[39m_state \u001b[38;5;129;01min\u001b[39;00m [CANCELLED, CANCELLED_AND_NOTIFIED]:\n",
      "File \u001b[0;32m/usr/lib/python3.10/threading.py:320\u001b[0m, in \u001b[0;36mCondition.wait\u001b[0;34m(self, timeout)\u001b[0m\n\u001b[1;32m    319\u001b[0m \u001b[38;5;28;01mif\u001b[39;00m timeout \u001b[38;5;129;01mis\u001b[39;00m \u001b[38;5;28;01mNone\u001b[39;00m:\n\u001b[0;32m--> 320\u001b[0m     \u001b[43mwaiter\u001b[49m\u001b[38;5;241;43m.\u001b[39;49m\u001b[43macquire\u001b[49m\u001b[43m(\u001b[49m\u001b[43m)\u001b[49m\n\u001b[1;32m    321\u001b[0m     gotit \u001b[38;5;241m=\u001b[39m \u001b[38;5;28;01mTrue\u001b[39;00m\n",
      "\u001b[0;31mKeyboardInterrupt\u001b[0m: ",
      "\nDuring handling of the above exception, another exception occurred:\n",
      "\u001b[0;31mKeyboardInterrupt\u001b[0m                         Traceback (most recent call last)",
      "Input \u001b[0;32mIn [92]\u001b[0m, in \u001b[0;36m<cell line: 22>\u001b[0;34m()\u001b[0m\n\u001b[1;32m     19\u001b[0m         consistent \u001b[38;5;241m=\u001b[39m confirm_consistent_spatial_data(station_idx_df, file_to_prep)\n\u001b[1;32m     20\u001b[0m         data_clean_complete(filename, wait_for\u001b[38;5;241m=\u001b[39m[missing_lat_long, missing_elevation, consistent])\n\u001b[0;32m---> 22\u001b[0m \u001b[43mmain\u001b[49m\u001b[43m(\u001b[49m\u001b[43m)\u001b[49m\n",
      "File \u001b[0;32m~/github/NOAA-file-download/venv_jupyter/lib/python3.10/site-packages/prefect/flows.py:319\u001b[0m, in \u001b[0;36mFlow.__call__\u001b[0;34m(self, *args, **kwargs)\u001b[0m\n\u001b[1;32m    316\u001b[0m \u001b[38;5;66;03m# Convert the call args/kwargs to a parameter dict\u001b[39;00m\n\u001b[1;32m    317\u001b[0m parameters \u001b[38;5;241m=\u001b[39m get_call_parameters(\u001b[38;5;28mself\u001b[39m\u001b[38;5;241m.\u001b[39mfn, args, kwargs)\n\u001b[0;32m--> 319\u001b[0m \u001b[38;5;28;01mreturn\u001b[39;00m \u001b[43menter_flow_run_engine_from_flow_call\u001b[49m\u001b[43m(\u001b[49m\u001b[38;5;28;43mself\u001b[39;49m\u001b[43m,\u001b[49m\u001b[43m \u001b[49m\u001b[43mparameters\u001b[49m\u001b[43m)\u001b[49m\n",
      "File \u001b[0;32m~/github/NOAA-file-download/venv_jupyter/lib/python3.10/site-packages/prefect/engine.py:106\u001b[0m, in \u001b[0;36menter_flow_run_engine_from_flow_call\u001b[0;34m(flow, parameters)\u001b[0m\n\u001b[1;32m    102\u001b[0m \u001b[38;5;28;01mif\u001b[39;00m \u001b[38;5;129;01mnot\u001b[39;00m is_subflow_run:\n\u001b[1;32m    103\u001b[0m     \u001b[38;5;28;01mif\u001b[39;00m in_async_main_thread():\n\u001b[1;32m    104\u001b[0m         \u001b[38;5;66;03m# An event loop is already running and we must create a blocking portal to\u001b[39;00m\n\u001b[1;32m    105\u001b[0m         \u001b[38;5;66;03m# run async code from this synchronous context\u001b[39;00m\n\u001b[0;32m--> 106\u001b[0m         \u001b[38;5;28;01mwith\u001b[39;00m start_blocking_portal() \u001b[38;5;28;01mas\u001b[39;00m portal:\n\u001b[1;32m    107\u001b[0m             \u001b[38;5;28;01mreturn\u001b[39;00m portal\u001b[38;5;241m.\u001b[39mcall(begin_run)\n\u001b[1;32m    108\u001b[0m     \u001b[38;5;28;01melse\u001b[39;00m:\n\u001b[1;32m    109\u001b[0m         \u001b[38;5;66;03m# An event loop is not running so we will create one\u001b[39;00m\n",
      "File \u001b[0;32m/usr/lib/python3.10/contextlib.py:153\u001b[0m, in \u001b[0;36m_GeneratorContextManager.__exit__\u001b[0;34m(self, typ, value, traceback)\u001b[0m\n\u001b[1;32m    151\u001b[0m     value \u001b[38;5;241m=\u001b[39m typ()\n\u001b[1;32m    152\u001b[0m \u001b[38;5;28;01mtry\u001b[39;00m:\n\u001b[0;32m--> 153\u001b[0m     \u001b[38;5;28;43mself\u001b[39;49m\u001b[38;5;241;43m.\u001b[39;49m\u001b[43mgen\u001b[49m\u001b[38;5;241;43m.\u001b[39;49m\u001b[43mthrow\u001b[49m\u001b[43m(\u001b[49m\u001b[43mtyp\u001b[49m\u001b[43m,\u001b[49m\u001b[43m \u001b[49m\u001b[43mvalue\u001b[49m\u001b[43m,\u001b[49m\u001b[43m \u001b[49m\u001b[43mtraceback\u001b[49m\u001b[43m)\u001b[49m\n\u001b[1;32m    154\u001b[0m \u001b[38;5;28;01mexcept\u001b[39;00m \u001b[38;5;167;01mStopIteration\u001b[39;00m \u001b[38;5;28;01mas\u001b[39;00m exc:\n\u001b[1;32m    155\u001b[0m     \u001b[38;5;66;03m# Suppress StopIteration *unless* it's the same exception that\u001b[39;00m\n\u001b[1;32m    156\u001b[0m     \u001b[38;5;66;03m# was passed to throw().  This prevents a StopIteration\u001b[39;00m\n\u001b[1;32m    157\u001b[0m     \u001b[38;5;66;03m# raised inside the \"with\" statement from being suppressed.\u001b[39;00m\n\u001b[1;32m    158\u001b[0m     \u001b[38;5;28;01mreturn\u001b[39;00m exc \u001b[38;5;129;01mis\u001b[39;00m \u001b[38;5;129;01mnot\u001b[39;00m value\n",
      "File \u001b[0;32m~/github/NOAA-file-download/venv_jupyter/lib/python3.10/site-packages/anyio/from_thread.py:497\u001b[0m, in \u001b[0;36mstart_blocking_portal\u001b[0;34m(backend, backend_options)\u001b[0m\n\u001b[1;32m    495\u001b[0m     \u001b[38;5;28;01myield\u001b[39;00m portal\n\u001b[1;32m    496\u001b[0m \u001b[38;5;28;01mexcept\u001b[39;00m \u001b[38;5;167;01mBaseException\u001b[39;00m:\n\u001b[0;32m--> 497\u001b[0m     \u001b[43mportal\u001b[49m\u001b[38;5;241;43m.\u001b[39;49m\u001b[43mcall\u001b[49m\u001b[43m(\u001b[49m\u001b[43mportal\u001b[49m\u001b[38;5;241;43m.\u001b[39;49m\u001b[43mstop\u001b[49m\u001b[43m,\u001b[49m\u001b[43m \u001b[49m\u001b[38;5;28;43;01mTrue\u001b[39;49;00m\u001b[43m)\u001b[49m\n\u001b[1;32m    498\u001b[0m     \u001b[38;5;28;01mraise\u001b[39;00m\n\u001b[1;32m    500\u001b[0m portal\u001b[38;5;241m.\u001b[39mcall(portal\u001b[38;5;241m.\u001b[39mstop, \u001b[38;5;28;01mFalse\u001b[39;00m)\n",
      "File \u001b[0;32m~/github/NOAA-file-download/venv_jupyter/lib/python3.10/site-packages/anyio/from_thread.py:283\u001b[0m, in \u001b[0;36mBlockingPortal.call\u001b[0;34m(self, func, *args)\u001b[0m\n\u001b[1;32m    268\u001b[0m \u001b[38;5;28;01mdef\u001b[39;00m \u001b[38;5;21mcall\u001b[39m(\n\u001b[1;32m    269\u001b[0m     \u001b[38;5;28mself\u001b[39m,\n\u001b[1;32m    270\u001b[0m     func: Callable[\u001b[38;5;241m.\u001b[39m\u001b[38;5;241m.\u001b[39m\u001b[38;5;241m.\u001b[39m, Union[Coroutine[Any, Any, T_Retval], T_Retval]],\n\u001b[1;32m    271\u001b[0m     \u001b[38;5;241m*\u001b[39margs: \u001b[38;5;28mobject\u001b[39m\n\u001b[1;32m    272\u001b[0m ) \u001b[38;5;241m-\u001b[39m\u001b[38;5;241m>\u001b[39m T_Retval:\n\u001b[1;32m    273\u001b[0m     \u001b[38;5;124;03m\"\"\"\u001b[39;00m\n\u001b[1;32m    274\u001b[0m \u001b[38;5;124;03m    Call the given function in the event loop thread.\u001b[39;00m\n\u001b[1;32m    275\u001b[0m \n\u001b[0;32m   (...)\u001b[0m\n\u001b[1;32m    281\u001b[0m \n\u001b[1;32m    282\u001b[0m \u001b[38;5;124;03m    \"\"\"\u001b[39;00m\n\u001b[0;32m--> 283\u001b[0m     \u001b[38;5;28;01mreturn\u001b[39;00m cast(T_Retval, \u001b[38;5;28;43mself\u001b[39;49m\u001b[38;5;241;43m.\u001b[39;49m\u001b[43mstart_task_soon\u001b[49m\u001b[43m(\u001b[49m\u001b[43mfunc\u001b[49m\u001b[43m,\u001b[49m\u001b[43m \u001b[49m\u001b[38;5;241;43m*\u001b[39;49m\u001b[43margs\u001b[49m\u001b[43m)\u001b[49m\u001b[38;5;241m.\u001b[39mresult())\n",
      "File \u001b[0;32m~/github/NOAA-file-download/venv_jupyter/lib/python3.10/site-packages/anyio/from_thread.py:369\u001b[0m, in \u001b[0;36mBlockingPortal.start_task_soon\u001b[0;34m(self, func, name, *args)\u001b[0m\n\u001b[1;32m    367\u001b[0m \u001b[38;5;28mself\u001b[39m\u001b[38;5;241m.\u001b[39m_check_running()\n\u001b[1;32m    368\u001b[0m f: Future \u001b[38;5;241m=\u001b[39m Future()\n\u001b[0;32m--> 369\u001b[0m \u001b[38;5;28;43mself\u001b[39;49m\u001b[38;5;241;43m.\u001b[39;49m\u001b[43m_spawn_task_from_thread\u001b[49m\u001b[43m(\u001b[49m\u001b[43mfunc\u001b[49m\u001b[43m,\u001b[49m\u001b[43m \u001b[49m\u001b[43margs\u001b[49m\u001b[43m,\u001b[49m\u001b[43m \u001b[49m\u001b[43m{\u001b[49m\u001b[43m}\u001b[49m\u001b[43m,\u001b[49m\u001b[43m \u001b[49m\u001b[43mname\u001b[49m\u001b[43m,\u001b[49m\u001b[43m \u001b[49m\u001b[43mf\u001b[49m\u001b[43m)\u001b[49m\n\u001b[1;32m    370\u001b[0m \u001b[38;5;28;01mreturn\u001b[39;00m f\n",
      "File \u001b[0;32m~/github/NOAA-file-download/venv_jupyter/lib/python3.10/site-packages/anyio/_backends/_asyncio.py:989\u001b[0m, in \u001b[0;36mBlockingPortal._spawn_task_from_thread\u001b[0;34m(self, func, args, kwargs, name, future)\u001b[0m\n\u001b[1;32m    981\u001b[0m \u001b[38;5;28;01mdef\u001b[39;00m \u001b[38;5;21m_spawn_task_from_thread\u001b[39m(\n\u001b[1;32m    982\u001b[0m     \u001b[38;5;28mself\u001b[39m,\n\u001b[1;32m    983\u001b[0m     func: Callable,\n\u001b[0;32m   (...)\u001b[0m\n\u001b[1;32m    987\u001b[0m     future: Future,\n\u001b[1;32m    988\u001b[0m ) \u001b[38;5;241m-\u001b[39m\u001b[38;5;241m>\u001b[39m \u001b[38;5;28;01mNone\u001b[39;00m:\n\u001b[0;32m--> 989\u001b[0m     \u001b[43mrun_sync_from_thread\u001b[49m\u001b[43m(\u001b[49m\n\u001b[1;32m    990\u001b[0m \u001b[43m        \u001b[49m\u001b[43mpartial\u001b[49m\u001b[43m(\u001b[49m\u001b[38;5;28;43mself\u001b[39;49m\u001b[38;5;241;43m.\u001b[39;49m\u001b[43m_task_group\u001b[49m\u001b[38;5;241;43m.\u001b[39;49m\u001b[43mstart_soon\u001b[49m\u001b[43m,\u001b[49m\u001b[43m \u001b[49m\u001b[43mname\u001b[49m\u001b[38;5;241;43m=\u001b[39;49m\u001b[43mname\u001b[49m\u001b[43m)\u001b[49m\u001b[43m,\u001b[49m\n\u001b[1;32m    991\u001b[0m \u001b[43m        \u001b[49m\u001b[38;5;28;43mself\u001b[39;49m\u001b[38;5;241;43m.\u001b[39;49m\u001b[43m_call_func\u001b[49m\u001b[43m,\u001b[49m\n\u001b[1;32m    992\u001b[0m \u001b[43m        \u001b[49m\u001b[43mfunc\u001b[49m\u001b[43m,\u001b[49m\n\u001b[1;32m    993\u001b[0m \u001b[43m        \u001b[49m\u001b[43margs\u001b[49m\u001b[43m,\u001b[49m\n\u001b[1;32m    994\u001b[0m \u001b[43m        \u001b[49m\u001b[43mkwargs\u001b[49m\u001b[43m,\u001b[49m\n\u001b[1;32m    995\u001b[0m \u001b[43m        \u001b[49m\u001b[43mfuture\u001b[49m\u001b[43m,\u001b[49m\n\u001b[1;32m    996\u001b[0m \u001b[43m        \u001b[49m\u001b[43mloop\u001b[49m\u001b[38;5;241;43m=\u001b[39;49m\u001b[38;5;28;43mself\u001b[39;49m\u001b[38;5;241;43m.\u001b[39;49m\u001b[43m_loop\u001b[49m\u001b[43m,\u001b[49m\n\u001b[1;32m    997\u001b[0m \u001b[43m    \u001b[49m\u001b[43m)\u001b[49m\n",
      "File \u001b[0;32m~/github/NOAA-file-download/venv_jupyter/lib/python3.10/site-packages/anyio/_backends/_asyncio.py:961\u001b[0m, in \u001b[0;36mrun_sync_from_thread\u001b[0;34m(func, loop, *args)\u001b[0m\n\u001b[1;32m    958\u001b[0m \u001b[38;5;28;01melse\u001b[39;00m:\n\u001b[1;32m    959\u001b[0m     loop\u001b[38;5;241m.\u001b[39mcall_soon_threadsafe(wrapper)\n\u001b[0;32m--> 961\u001b[0m \u001b[38;5;28;01mreturn\u001b[39;00m \u001b[43mf\u001b[49m\u001b[38;5;241;43m.\u001b[39;49m\u001b[43mresult\u001b[49m\u001b[43m(\u001b[49m\u001b[43m)\u001b[49m\n",
      "File \u001b[0;32m/usr/lib/python3.10/concurrent/futures/_base.py:441\u001b[0m, in \u001b[0;36mFuture.result\u001b[0;34m(self, timeout)\u001b[0m\n\u001b[1;32m    438\u001b[0m \u001b[38;5;28;01melif\u001b[39;00m \u001b[38;5;28mself\u001b[39m\u001b[38;5;241m.\u001b[39m_state \u001b[38;5;241m==\u001b[39m FINISHED:\n\u001b[1;32m    439\u001b[0m     \u001b[38;5;28;01mreturn\u001b[39;00m \u001b[38;5;28mself\u001b[39m\u001b[38;5;241m.\u001b[39m__get_result()\n\u001b[0;32m--> 441\u001b[0m \u001b[38;5;28;43mself\u001b[39;49m\u001b[38;5;241;43m.\u001b[39;49m\u001b[43m_condition\u001b[49m\u001b[38;5;241;43m.\u001b[39;49m\u001b[43mwait\u001b[49m\u001b[43m(\u001b[49m\u001b[43mtimeout\u001b[49m\u001b[43m)\u001b[49m\n\u001b[1;32m    443\u001b[0m \u001b[38;5;28;01mif\u001b[39;00m \u001b[38;5;28mself\u001b[39m\u001b[38;5;241m.\u001b[39m_state \u001b[38;5;129;01min\u001b[39;00m [CANCELLED, CANCELLED_AND_NOTIFIED]:\n\u001b[1;32m    444\u001b[0m     \u001b[38;5;28;01mraise\u001b[39;00m CancelledError()\n",
      "File \u001b[0;32m/usr/lib/python3.10/threading.py:320\u001b[0m, in \u001b[0;36mCondition.wait\u001b[0;34m(self, timeout)\u001b[0m\n\u001b[1;32m    318\u001b[0m \u001b[38;5;28;01mtry\u001b[39;00m:    \u001b[38;5;66;03m# restore state no matter what (e.g., KeyboardInterrupt)\u001b[39;00m\n\u001b[1;32m    319\u001b[0m     \u001b[38;5;28;01mif\u001b[39;00m timeout \u001b[38;5;129;01mis\u001b[39;00m \u001b[38;5;28;01mNone\u001b[39;00m:\n\u001b[0;32m--> 320\u001b[0m         \u001b[43mwaiter\u001b[49m\u001b[38;5;241;43m.\u001b[39;49m\u001b[43macquire\u001b[49m\u001b[43m(\u001b[49m\u001b[43m)\u001b[49m\n\u001b[1;32m    321\u001b[0m         gotit \u001b[38;5;241m=\u001b[39m \u001b[38;5;28;01mTrue\u001b[39;00m\n\u001b[1;32m    322\u001b[0m     \u001b[38;5;28;01melse\u001b[39;00m:\n",
      "\u001b[0;31mKeyboardInterrupt\u001b[0m: "
     ]
    }
   ],
   "source": [
    "@flow(task_runner=SequentialTaskRunner())\n",
    "def main():\n",
    "    logger = get_run_logger()\n",
    "    data_dir = Path('local_data').resolve() / 'global-summary-of-the-day-archive'\n",
    "    \n",
    "    to_process = glob.glob(f\"{data_dir}/**/*_full.csv\", recursive=True)\n",
    "    to_prep = find_years_to_prep(data_dir)\n",
    "\n",
    "    # process_years = tqdm(sorted(to_prep), desc='Cleaning Year Files')\n",
    "    process_years = sorted(to_prep.wait().result())\n",
    "    for filename in process_years:\n",
    "        file_to_prep = f\"{Path(filename).parent / Path(filename).name[:4]}_full.csv\"\n",
    "        logger.info(f\"STARTING {Path(file_to_prep).name}\")\n",
    "        # process_years.set_description(Path(file_to_prep).name)\n",
    "        station_idx_df = open_csv_station_index(file_to_prep)\n",
    "        missing_lat_long = find_missing_lat_long(station_idx_df, file_to_prep)\n",
    "        missing_elevation = find_missing_elevation(station_idx_df, file_to_prep)\n",
    "        # remove_missing_spatial(station_index_df)\n",
    "        consistent = confirm_consistent_spatial_data(station_idx_df, file_to_prep)\n",
    "        data_clean_complete(filename, wait_for=[missing_lat_long, missing_elevation, consistent])\n",
    "\n",
    "main()"
   ]
  },
  {
   "cell_type": "code",
   "execution_count": null,
   "id": "629cb8da-c987-45c5-9362-902fbdbc2bfc",
   "metadata": {},
   "outputs": [],
   "source": []
  }
 ],
 "metadata": {
  "kernelspec": {
   "display_name": "Python 3 (ipykernel)",
   "language": "python",
   "name": "python3"
  },
  "language_info": {
   "codemirror_mode": {
    "name": "ipython",
    "version": 3
   },
   "file_extension": ".py",
   "mimetype": "text/x-python",
   "name": "python",
   "nbconvert_exporter": "python",
   "pygments_lexer": "ipython3",
   "version": "3.10.4"
  }
 },
 "nbformat": 4,
 "nbformat_minor": 5
}
