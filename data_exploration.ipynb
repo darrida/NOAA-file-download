{
 "cells": [
  {
   "cell_type": "code",
   "execution_count": 57,
   "id": "dce8b88f-b0d6-46a4-8f27-51feac25eba5",
   "metadata": {},
   "outputs": [],
   "source": [
    "from pathlib import Path\n",
    "from pprint import pprint\n",
    "import pandas as pd\n",
    "from tqdm import tqdm\n",
    "import matplotlib"
   ]
  },
  {
   "cell_type": "code",
   "execution_count": 58,
   "id": "3f30cbaf-226c-4176-afd1-53a3a61310d6",
   "metadata": {},
   "outputs": [],
   "source": [
    "file_dir = Path('local_data').resolve() / 'global-summary-of-the-day-archive'"
   ]
  },
  {
   "cell_type": "code",
   "execution_count": 59,
   "id": "dbbac726-9953-4e2a-8e53-b0d3aa78ce88",
   "metadata": {},
   "outputs": [],
   "source": [
    "# df = pd.read_csv(file_dir / '2021' / '2021_full.csv', dtype=str)\n",
    "df = pd.read_csv(file_dir / '2021' / '2021_full.csv', low_memory=False) #, dtype=str)"
   ]
  },
  {
   "cell_type": "code",
   "execution_count": 68,
   "id": "cd3f87a3-66a4-4c47-9ac2-ad82a140d3a2",
   "metadata": {},
   "outputs": [],
   "source": [
    "stations = list(df['STATION'].unique())"
   ]
  },
  {
   "cell_type": "code",
   "execution_count": 69,
   "id": "d6cb8eb5-333a-476a-a4e7-7eae376f8652",
   "metadata": {},
   "outputs": [],
   "source": [
    "station_index = df.set_index('STATION')"
   ]
  },
  {
   "cell_type": "code",
   "execution_count": 88,
   "id": "52564f8e-3828-4cef-9caf-d897281b2ed6",
   "metadata": {},
   "outputs": [
    {
     "name": "stdout",
     "output_type": "stream",
     "text": [
      "no inconsistent spatial data\n",
      "              LATITUDE  LONGITUDE  ELEVATION  counts\n",
      "STATION                                             \n",
      "01001099999  70.933333  -8.666667       9.00     362\n",
      "01001499999  59.791925   5.340850      48.76     288\n",
      "01002099999  80.050000  16.250000       8.00      26\n",
      "01003099999  77.000000  15.500000      12.00      56\n",
      "01006099999  78.250000  22.816667      14.00      22\n",
      "...                ...        ...        ...     ...\n",
      "A0735500241  43.579000 -90.913000     394.10     351\n",
      "A0735700182  45.986000 -95.992000     367.30     331\n",
      "A0735900240  42.938000 -85.061000     249.00     363\n",
      "A5125500445  32.463830 -87.954050      34.10     361\n",
      "A5125600451  36.698500 -93.402200     411.20     363\n",
      "\n",
      "[12237 rows x 4 columns]\n"
     ]
    },
    {
     "ename": "AttributeError",
     "evalue": "'Index' object has no attribute 'get_duplicates'",
     "output_type": "error",
     "traceback": [
      "\u001b[0;31m---------------------------------------------------------------------------\u001b[0m",
      "\u001b[0;31mAttributeError\u001b[0m                            Traceback (most recent call last)",
      "Input \u001b[0;32mIn [88]\u001b[0m, in \u001b[0;36m<cell line: 19>\u001b[0;34m()\u001b[0m\n\u001b[1;32m     17\u001b[0m \u001b[38;5;66;03m# print(len(df.groupby('STATION')[['LATITUDE', 'LONGITUDE', 'ELEVATION']].value_counts().filter(lambda x: not (x['count'].isna().all() and len(x) > 1))))\u001b[39;00m\n\u001b[1;32m     18\u001b[0m not_nan_stations \u001b[38;5;241m=\u001b[39m not_nan_df\u001b[38;5;241m.\u001b[39mindex\u001b[38;5;241m.\u001b[39munique()\n\u001b[0;32m---> 19\u001b[0m \u001b[38;5;28mprint\u001b[39m(\u001b[43mnot_nan_df\u001b[49m\u001b[38;5;241;43m.\u001b[39;49m\u001b[43mindex\u001b[49m\u001b[38;5;241;43m.\u001b[39;49m\u001b[43mget_duplicates\u001b[49m())\n\u001b[1;32m     20\u001b[0m \u001b[38;5;66;03m# print(list(not_nan_stations))\u001b[39;00m\n\u001b[1;32m     21\u001b[0m \u001b[38;5;66;03m# not_nan_stations = [x[0] for x in list(not_nan_stations)]\u001b[39;00m\n\u001b[1;32m     22\u001b[0m spatial_data_missing_l \u001b[38;5;241m=\u001b[39m \u001b[38;5;28mlist\u001b[39m(\u001b[38;5;28mset\u001b[39m(stations)\u001b[38;5;241m.\u001b[39mdifference(\u001b[38;5;28mset\u001b[39m(\u001b[38;5;28mlist\u001b[39m(not_nan_stations))))\n",
      "\u001b[0;31mAttributeError\u001b[0m: 'Index' object has no attribute 'get_duplicates'"
     ]
    }
   ],
   "source": [
    "# Confirm all stations each has consistent spatial data\n",
    "grouped_spatial_df = station_index.groupby('STATION')[['LATITUDE', 'LONGITUDE', 'ELEVATION']].value_counts(dropna=False)\n",
    "# grouped_spatial_df = station_index.groupby('STATION')[['LATITUDE', 'LONGITUDE', 'ELEVATION']].value_counts()\n",
    "if len(grouped_spatial_df) == len(station_index.index.unique()):\n",
    "    print('no inconsistent spatial data')\n",
    "else:\n",
    "    print('spatial data not all unique.')\n",
    "    # Get duplicate indexes to identify stations with inconsistent spatial data\n",
    "    spatial_data_errors_l = grouped_spatial_df.index.get_duplicates()\n",
    "    \n",
    "    \n",
    "# Get stations with missing spatial data\n",
    "not_nan_df = station_index.groupby('STATION')[['LATITUDE', 'LONGITUDE', 'ELEVATION']].value_counts().reset_index(name='counts')\n",
    "not_nan_df = not_nan_df.set_index('STATION')\n",
    "\n",
    "not_nan_stations = not_nan_df.index.unique()\n",
    "\n",
    "# TODO: Try this https://pandas.pydata.org/pandas-docs/stable/reference/api/pandas.Index.duplicated.html\n",
    "\n",
    "print(not_nan_df.index.get_duplicates())\n",
    "spatial_data_missing_l = list(set(stations).difference(set(list(not_nan_stations))))\n",
    "print('missing', len(spatial_data_missing_l))\n",
    "    "
   ]
  },
  {
   "cell_type": "code",
   "execution_count": null,
   "id": "f1fcdc2e-8831-47f7-ace5-18a224323065",
   "metadata": {},
   "outputs": [],
   "source": []
  }
 ],
 "metadata": {
  "kernelspec": {
   "display_name": "Python 3 (ipykernel)",
   "language": "python",
   "name": "python3"
  },
  "language_info": {
   "codemirror_mode": {
    "name": "ipython",
    "version": 3
   },
   "file_extension": ".py",
   "mimetype": "text/x-python",
   "name": "python",
   "nbconvert_exporter": "python",
   "pygments_lexer": "ipython3",
   "version": "3.10.4"
  }
 },
 "nbformat": 4,
 "nbformat_minor": 5
}
